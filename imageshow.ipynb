{
 "cells": [
  {
   "cell_type": "code",
   "execution_count": null,
   "metadata": {},
   "outputs": [],
   "source": [
    "def imageshow(num_figure,model,data=\"train\"):\n",
    "    if data==\"train\":\n",
    "        dataloader=train_data\n",
    "    elif data==\"valid\":\n",
    "        dataloader=valid_data\n",
    "    elif data==\"test\":\n",
    "        dataloader=test_data\n",
    "    #定义了一个打印多张图片的function\n",
    "    fig, axes = plt.subplots(num_figure, 4,dpi = 600, figsize=(7, 6))\n",
    "    imgs=np.arange(num_figure)*10\n",
    "    for i in imgs:\n",
    "        #导入要验证的图片\n",
    "        image,label=dataloader.__getitem__(i)\n",
    "        i=int(i/10)#设置index\n",
    "        #打印原图\n",
    "        axes[i][0].imshow(np.transpose(image.numpy(),(1,2,0)))\n",
    "        #打印ground truth\n",
    "        axes[i][1].imshow(label.numpy()[0],cmap='gray')\n",
    "        #打印我做出来的mask\n",
    "        img = torch.unsqueeze(image,dim=0)\n",
    "        b_x=img.cuda()\n",
    "        out=model(b_x).to(torch.float64)\n",
    "        out=out.cpu().detach().numpy()[0][0]\n",
    "        axes[i][2].imshow(out,cmap=\"gray\")\n",
    "        #打印threshold后的mask\n",
    "        out=out>0.5\n",
    "        axes[i][3].imshow(out,cmap=\"gray\")  \n",
    "    for ax in axes.ravel():\n",
    "        ax.axis('off')#关掉坐标轴       \n",
    "    #设置标签\n",
    "    axes[0][0].set_title(\"Original image\")\n",
    "    axes[0][1].set_title(\"Ground truth\")\n",
    "    axes[0][2].set_title(\"Output mask\")\n",
    "    axes[0][3].set_title(\"Threshold mask\")\n",
    "    #保存图片\n",
    "    plt.tight_layout() #让图片紧密 \n",
    "    fig.savefig('{}_imshow.png'.format(data))\n",
    "    fig.show()"
   ]
  },
  {
   "cell_type": "code",
   "execution_count": null,
   "metadata": {},
   "outputs": [],
   "source": [
    "imageshow(6,model,\"train\")"
   ]
  }
 ],
 "metadata": {
  "kernelspec": {
   "display_name": "Python 3",
   "language": "python",
   "name": "python3"
  },
  "language_info": {
   "codemirror_mode": {
    "name": "ipython",
    "version": 3
   },
   "file_extension": ".py",
   "mimetype": "text/x-python",
   "name": "python",
   "nbconvert_exporter": "python",
   "pygments_lexer": "ipython3",
   "version": "3.7.6"
  }
 },
 "nbformat": 4,
 "nbformat_minor": 4
}
